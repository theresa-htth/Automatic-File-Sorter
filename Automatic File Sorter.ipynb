{
 "cells": [
  {
   "cell_type": "code",
   "execution_count": 30,
   "id": "26521459",
   "metadata": {},
   "outputs": [],
   "source": [
    "import os, shutil"
   ]
  },
  {
   "cell_type": "code",
   "execution_count": 31,
   "id": "de398f9e",
   "metadata": {},
   "outputs": [],
   "source": [
    "path = r\"C:/Users/DELL/Documents/Python Tutorials/\""
   ]
  },
  {
   "cell_type": "code",
   "execution_count": 32,
   "id": "f700d8e0",
   "metadata": {},
   "outputs": [],
   "source": [
    "file_name = os.listdir(path)"
   ]
  },
  {
   "cell_type": "code",
   "execution_count": 33,
   "id": "c727d910",
   "metadata": {},
   "outputs": [],
   "source": [
    "folder_names = ['csv files', 'image files', 'text files', 'excel files']\n",
    "\n",
    "for loop in range(0,4):\n",
    "    if not os.path.exists(path + folder_names[loop]):\n",
    "        os.makedirs(path + folder_names[loop])\n",
    "        \n",
    "for file in file_name:\n",
    "    if '.csv' in file and not os.path.exists(path + \"csv files/\" + file):\n",
    "        shutil.move(path + file,path + \"csv files/\" + file)\n",
    "    elif '.xlsx' in file and not os.path.exists(path + \"excel files/\" + file):\n",
    "        shutil.move(path + file,path + \"excel files/\" + file)\n",
    "    elif '.txt' in file and not os.path.exists(path + \"text files/\" + file):\n",
    "        shutil.move(path + file,path + \"text files/\" + file)\n",
    "    elif '.jpg' in file and not os.path.exists(path + \"image files/\" + file):\n",
    "        shutil.move(path + file,path + \"image files/\" + file)\n",
    "    elif '.jpeg' in file and not os.path.exists(path + \"image files/\" + file):\n",
    "        shutil.move(path + file,path + \"image files/\" + file)"
   ]
  },
  {
   "cell_type": "code",
   "execution_count": 29,
   "id": "a6516c76",
   "metadata": {},
   "outputs": [],
   "source": []
  },
  {
   "cell_type": "code",
   "execution_count": null,
   "id": "73a50464",
   "metadata": {},
   "outputs": [],
   "source": []
  },
  {
   "cell_type": "code",
   "execution_count": null,
   "id": "bd1f2552",
   "metadata": {},
   "outputs": [],
   "source": []
  },
  {
   "cell_type": "code",
   "execution_count": null,
   "id": "0c09ba33",
   "metadata": {},
   "outputs": [],
   "source": []
  },
  {
   "cell_type": "code",
   "execution_count": null,
   "id": "e97967cd",
   "metadata": {},
   "outputs": [],
   "source": []
  },
  {
   "cell_type": "code",
   "execution_count": null,
   "id": "4f1d55a3",
   "metadata": {},
   "outputs": [],
   "source": []
  },
  {
   "cell_type": "code",
   "execution_count": null,
   "id": "9d558501",
   "metadata": {},
   "outputs": [],
   "source": []
  },
  {
   "cell_type": "code",
   "execution_count": null,
   "id": "58b5ec9c",
   "metadata": {},
   "outputs": [],
   "source": []
  },
  {
   "cell_type": "code",
   "execution_count": null,
   "id": "c7079570",
   "metadata": {},
   "outputs": [],
   "source": []
  },
  {
   "cell_type": "code",
   "execution_count": null,
   "id": "a8a15a04",
   "metadata": {},
   "outputs": [],
   "source": []
  },
  {
   "cell_type": "code",
   "execution_count": null,
   "id": "d5e1128a",
   "metadata": {},
   "outputs": [],
   "source": []
  }
 ],
 "metadata": {
  "kernelspec": {
   "display_name": "Python 3 (ipykernel)",
   "language": "python",
   "name": "python3"
  },
  "language_info": {
   "codemirror_mode": {
    "name": "ipython",
    "version": 3
   },
   "file_extension": ".py",
   "mimetype": "text/x-python",
   "name": "python",
   "nbconvert_exporter": "python",
   "pygments_lexer": "ipython3",
   "version": "3.10.9"
  }
 },
 "nbformat": 4,
 "nbformat_minor": 5
}
